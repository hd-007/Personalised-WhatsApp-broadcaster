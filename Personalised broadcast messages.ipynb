{
 "cells": [
  {
   "cell_type": "code",
   "execution_count": 15,
   "id": "d148cf52-9cdc-4cdc-b10b-9145ad8993c3",
   "metadata": {},
   "outputs": [
    {
     "data": {
      "text/html": [
       "<div>\n",
       "<style scoped>\n",
       "    .dataframe tbody tr th:only-of-type {\n",
       "        vertical-align: middle;\n",
       "    }\n",
       "\n",
       "    .dataframe tbody tr th {\n",
       "        vertical-align: top;\n",
       "    }\n",
       "\n",
       "    .dataframe thead th {\n",
       "        text-align: right;\n",
       "    }\n",
       "</style>\n",
       "<table border=\"1\" class=\"dataframe\">\n",
       "  <thead>\n",
       "    <tr style=\"text-align: right;\">\n",
       "      <th></th>\n",
       "      <th>Name</th>\n",
       "      <th>Phone</th>\n",
       "    </tr>\n",
       "  </thead>\n",
       "  <tbody>\n",
       "    <tr>\n",
       "      <th>0</th>\n",
       "      <td>Ankur</td>\n",
       "      <td>7270845755</td>\n",
       "    </tr>\n",
       "    <tr>\n",
       "      <th>1</th>\n",
       "      <td>Anoushka</td>\n",
       "      <td>+91 99316 57633</td>\n",
       "    </tr>\n",
       "    <tr>\n",
       "      <th>2</th>\n",
       "      <td>Bhatti</td>\n",
       "      <td>+91 83848 52385</td>\n",
       "    </tr>\n",
       "    <tr>\n",
       "      <th>3</th>\n",
       "      <td>Boru</td>\n",
       "      <td>+919406986751</td>\n",
       "    </tr>\n",
       "    <tr>\n",
       "      <th>4</th>\n",
       "      <td>Mami</td>\n",
       "      <td>+1 (678) 770-8331</td>\n",
       "    </tr>\n",
       "  </tbody>\n",
       "</table>\n",
       "</div>"
      ],
      "text/plain": [
       "       Name              Phone\n",
       "0     Ankur         7270845755\n",
       "1  Anoushka    +91 99316 57633\n",
       "2    Bhatti    +91 83848 52385\n",
       "3      Boru      +919406986751\n",
       "4      Mami  +1 (678) 770-8331"
      ]
     },
     "execution_count": 15,
     "metadata": {},
     "output_type": "execute_result"
    }
   ],
   "source": [
    "import pandas as pd\n",
    "\n",
    "# Load contacts from CSV file\n",
    "contacts = pd.read_csv(\"/path_to_csv\")\n",
    "contacts.head()  # Show the first few contacts to verify\n"
   ]
  },
  {
   "cell_type": "code",
   "execution_count": 13,
   "id": "ec516e22-1655-4282-84c0-4ffb2e3cc32f",
   "metadata": {},
   "outputs": [
    {
     "name": "stdout",
     "output_type": "stream",
     "text": [
      "Please scan the QR code on WhatsApp Web and press Enter to continue... \n"
     ]
    },
    {
     "data": {
      "text/plain": [
       "''"
      ]
     },
     "execution_count": 13,
     "metadata": {},
     "output_type": "execute_result"
    }
   ],
   "source": [
    "from selenium import webdriver\n",
    "from selenium.webdriver.common.by import By\n",
    "import time\n",
    "\n",
    "# Initialize the WebDriver\n",
    "driver = webdriver.Chrome()  # Adjust if the ChromeDriver is not in PATH\n",
    "driver.get(\"https://web.whatsapp.com\")\n",
    "\n",
    "# Pause to allow QR scan\n",
    "input(\"Please scan the QR code on WhatsApp Web and press Enter to continue...\")\n"
   ]
  },
  {
   "cell_type": "code",
   "execution_count": null,
   "id": "a21b9d2b-6107-4a70-ac90-ec204159a1be",
   "metadata": {},
   "outputs": [],
   "source": [
    "# Customize the default message template\n",
    "default_message = \"Happy Diwali, {name}! May this festival bring you happiness, health, and endless joy!🪔✨\"\n",
    "\n",
    "for index, contact in contacts.iterrows():\n",
    "    name = contact[\"Name\"]\n",
    "    phone = contact[\"Phone\"]\n",
    "    # Use custom message if available, otherwise default\n",
    "    message = contact.get(\"Message\", default_message.format(name=name))\n",
    "\n",
    "    # Construct the WhatsApp Web URL\n",
    "    link = f\"https://web.whatsapp.com/send?phone={phone}&text={message}\"\n",
    "    driver.get(link)\n",
    "    time.sleep(12)  # Adjust delay if necessary for loading\n",
    "\n",
    "    # Send the message by locating the send button\n",
    "    try:\n",
    "        send_button = driver.find_element(By.XPATH, '//button[@aria-label=\"Send\"]')\n",
    "        send_button.click()\n",
    "        print(f\"Message sent to {name} ({phone})\")\n",
    "    except Exception as e:\n",
    "        print(f\"Failed to send message to {name} ({phone}). Error: {e}\")\n",
    "\n",
    "    time.sleep(3)  # Short delay to avoid spamming\n"
   ]
  },
  {
   "cell_type": "code",
   "execution_count": null,
   "id": "eead7e63-e827-46a2-bd18-22d844103ed3",
   "metadata": {},
   "outputs": [],
   "source": []
  }
 ],
 "metadata": {
  "kernelspec": {
   "display_name": "Python 3 (ipykernel)",
   "language": "python",
   "name": "python3"
  },
  "language_info": {
   "codemirror_mode": {
    "name": "ipython",
    "version": 3
   },
   "file_extension": ".py",
   "mimetype": "text/x-python",
   "name": "python",
   "nbconvert_exporter": "python",
   "pygments_lexer": "ipython3",
   "version": "3.12.3"
  }
 },
 "nbformat": 4,
 "nbformat_minor": 5
}
